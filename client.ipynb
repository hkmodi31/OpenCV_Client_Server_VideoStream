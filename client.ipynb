{
 "cells": [
  {
   "cell_type": "code",
   "execution_count": null,
   "id": "pressing-radical",
   "metadata": {},
   "outputs": [],
   "source": [
    "import socket\n",
    "import cv2\n",
    "import pickle\n",
    "s = socket.socket()"
   ]
  },
  {
   "cell_type": "code",
   "execution_count": null,
   "id": "familiar-crossing",
   "metadata": {},
   "outputs": [],
   "source": [
    "port = 1234\n",
    "ip = \"192.168.29.102\""
   ]
  },
  {
   "cell_type": "code",
   "execution_count": null,
   "id": "sized-elevation",
   "metadata": {},
   "outputs": [],
   "source": [
    "s.connect((ip,port))\n",
    "print(\"Connection established\")\n",
    "cam = cv2.VideoCapture(0)\n",
    "while True:\n",
    "    \n",
    "    #sending video\n",
    "    ret, photo = cam.read()\n",
    "    s.send(pickle.dumps(photo))\n",
    "    data = 999999\n",
    "    #receiving video\n",
    "    x = s.recv(data)\n",
    "    if len(x)>data:\n",
    "        data+=len(x)\n",
    "    frame = pickle.loads(x)\n",
    "    \n",
    "    cv2.imshow('server image', frame)\n",
    "    if cv2.waitKey(1) == 13:\n",
    "        break\n",
    "    \n",
    "\n",
    "    \n",
    "cv2.destroyAllWindows()"
   ]
  },
  {
   "cell_type": "code",
   "execution_count": null,
   "id": "sudden-panic",
   "metadata": {},
   "outputs": [],
   "source": []
  },
  {
   "cell_type": "code",
   "execution_count": null,
   "id": "polished-projection",
   "metadata": {},
   "outputs": [],
   "source": []
  }
 ],
 "metadata": {
  "kernelspec": {
   "display_name": "Python 3",
   "language": "python",
   "name": "python3"
  },
  "language_info": {
   "codemirror_mode": {
    "name": "ipython",
    "version": 3
   },
   "file_extension": ".py",
   "mimetype": "text/x-python",
   "name": "python",
   "nbconvert_exporter": "python",
   "pygments_lexer": "ipython3",
   "version": "3.9.1"
  }
 },
 "nbformat": 4,
 "nbformat_minor": 5
}
