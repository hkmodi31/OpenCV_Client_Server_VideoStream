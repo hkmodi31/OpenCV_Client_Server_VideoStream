{
 "cells": [
  {
   "cell_type": "code",
   "execution_count": null,
   "id": "personal-ethnic",
   "metadata": {},
   "outputs": [],
   "source": [
    "import cv2\n",
    "import socket\n",
    "import pickle\n",
    "s = socket.socket()"
   ]
  },
  {
   "cell_type": "code",
   "execution_count": null,
   "id": "hollow-novelty",
   "metadata": {},
   "outputs": [],
   "source": [
    "port = 1234\n",
    "ip = \"\"\n",
    "\n",
    "s.bind((ip,port))\n",
    "s.listen()\n",
    "\n",
    "c, addr = s.accept()\n",
    "print(\"Connection established\")"
   ]
  },
  {
   "cell_type": "code",
   "execution_count": null,
   "id": "sustained-namibia",
   "metadata": {},
   "outputs": [],
   "source": [
    "cam1 = cv2.VideoCapture(1)"
   ]
  },
  {
   "cell_type": "code",
   "execution_count": null,
   "id": "pending-incentive",
   "metadata": {},
   "outputs": [],
   "source": [
    "while True:\n",
    "    data = 999999\n",
    "    #receiving video\n",
    "    x = c.recv(data)\n",
    "    if len(x)>data:\n",
    "        data+=len(x)\n",
    "    frame = pickle.loads(x)\n",
    "    cv2.imshow('client image', frame)\n",
    "    if cv2.waitKey(1) == 13:\n",
    "        break\n",
    "    \n",
    "    #sending video\n",
    "    ret1, photo1 = cam1.read()\n",
    "    c.send(pickle.dumps(photo1))\n",
    "     \n",
    "\n",
    "cv2.destroyAllWindows()"
   ]
  },
  {
   "cell_type": "code",
   "execution_count": null,
   "id": "innocent-technician",
   "metadata": {},
   "outputs": [],
   "source": []
  }
 ],
 "metadata": {
  "kernelspec": {
   "display_name": "Python 3",
   "language": "python",
   "name": "python3"
  },
  "language_info": {
   "codemirror_mode": {
    "name": "ipython",
    "version": 3
   },
   "file_extension": ".py",
   "mimetype": "text/x-python",
   "name": "python",
   "nbconvert_exporter": "python",
   "pygments_lexer": "ipython3",
   "version": "3.9.1"
  }
 },
 "nbformat": 4,
 "nbformat_minor": 5
}
